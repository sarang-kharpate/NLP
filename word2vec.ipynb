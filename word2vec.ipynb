{
  "nbformat": 4,
  "nbformat_minor": 0,
  "metadata": {
    "colab": {
      "name": "word2vec.ipynb",
      "provenance": [],
      "collapsed_sections": [],
      "authorship_tag": "ABX9TyO3l0y/t3zeJHQij+DAh4p4"
    },
    "kernelspec": {
      "name": "python3",
      "display_name": "Python 3"
    },
    "language_info": {
      "name": "python"
    }
  },
  "cells": [
    {
      "cell_type": "code",
      "execution_count": 23,
      "metadata": {
        "colab": {
          "base_uri": "https://localhost:8080/"
        },
        "id": "GjOMEtLJRYpw",
        "outputId": "41ad38fa-3cef-4be2-bbee-2b8b645bd57f"
      },
      "outputs": [
        {
          "output_type": "stream",
          "name": "stdout",
          "text": [
            "[nltk_data] Downloading package punkt to /root/nltk_data...\n",
            "[nltk_data]   Package punkt is already up-to-date!\n",
            "[nltk_data] Downloading package stopwords to /root/nltk_data...\n",
            "[nltk_data]   Package stopwords is already up-to-date!\n"
          ]
        }
      ],
      "source": [
        "import nltk\n",
        "import re\n",
        "nltk.download('punkt')\n",
        "nltk.download('stopwords')\n",
        "from gensim.models import Word2Vec\n",
        "from nltk.corpus import stopwords"
      ]
    },
    {
      "cell_type": "code",
      "source": [
        "paragraph = \"\"\"I have three visions for India. In 3000 years of our history, people from all over \n",
        "               the world have come and invaded us, captured our lands, conquered our minds. \n",
        "               From Alexander onwards, the Greeks, the Turks, the Moguls, the Portuguese, the British,\n",
        "               the French, the Dutch, all of them came and looted us, took over what was ours. \n",
        "               Yet we have not done this to any other nation. We have not conquered anyone. \n",
        "               We have not grabbed their land, their culture, \n",
        "               their history and tried to enforce our way of life on them. \n",
        "               Why? Because we respect the freedom of others.That is why my \n",
        "               first vision is that of freedom. I believe that India got its first vision of \n",
        "               this in 1857, when we started the War of Independence. It is this freedom that\n",
        "               we must protect and nurture and build on. If we are not free, no one will respect us.\n",
        "               My second vision for India’s development. For fifty years we have been a developing nation.\n",
        "               It is time we see ourselves as a developed nation. We are among the top 5 nations of the world\n",
        "               in terms of GDP. We have a 10 percent growth rate in most areas. Our poverty levels are falling.\n",
        "               Our achievements are being globally recognised today. Yet we lack the self-confidence to\n",
        "               see ourselves as a developed nation, self-reliant and self-assured. Isn’t this incorrect?\n",
        "               I have a third vision. India must stand up to the world. Because I believe that unless India \n",
        "               stands up to the world, no one will respect us. Only strength respects strength. We must be \n",
        "               strong not only as a military power but also as an economic power. Both must go hand-in-hand. \n",
        "               My good fortune was to have worked with three great minds. Dr. Vikram Sarabhai of the Dept. of \n",
        "               space, Professor Satish Dhawan, who succeeded him and Dr. Brahm Prakash, father of nuclear material.\n",
        "               I was lucky to have worked with all three of them closely and consider this the great opportunity of my life. \n",
        "               I see four milestones in my career\"\"\""
      ],
      "metadata": {
        "id": "plCvNs5_R4Jp"
      },
      "execution_count": 6,
      "outputs": []
    },
    {
      "cell_type": "code",
      "source": [
        "text = re.sub(r'\\[[0-9]*\\]', ' ', paragraph)\n",
        "text = re.sub(r'\\s+',' ',text)\n",
        "text = text.lower()\n",
        "text = re.sub(r'\\d',' ',text)\n",
        "text = re.sub(r'\\s+',' ',text)"
      ],
      "metadata": {
        "id": "ptR3ZtefR8eo"
      },
      "execution_count": 9,
      "outputs": []
    },
    {
      "cell_type": "code",
      "source": [
        "sentences = nltk.sent_tokenize(text)"
      ],
      "metadata": {
        "id": "OI9wWuMFSST3"
      },
      "execution_count": 12,
      "outputs": []
    },
    {
      "cell_type": "code",
      "source": [
        "sentences = [nltk.word_tokenize(sentence) for sentence in sentences]"
      ],
      "metadata": {
        "id": "sNdLCNcqSWRl"
      },
      "execution_count": 16,
      "outputs": []
    },
    {
      "cell_type": "code",
      "source": [
        "for i in range(len(sentences)):\n",
        "    sentences[i] = [word for word in sentences[i] if word not in stopwords.words('english')]"
      ],
      "metadata": {
        "id": "VLCSIpZLSv5I"
      },
      "execution_count": 20,
      "outputs": []
    },
    {
      "cell_type": "code",
      "source": [
        "model = Word2Vec(sentences, min_count=1)"
      ],
      "metadata": {
        "id": "ddhnHM-ITpz9"
      },
      "execution_count": 24,
      "outputs": []
    },
    {
      "cell_type": "code",
      "source": [
        "words = model.wv.vocab"
      ],
      "metadata": {
        "id": "CjylvnpxT-mg"
      },
      "execution_count": 26,
      "outputs": []
    },
    {
      "cell_type": "code",
      "source": [
        "words"
      ],
      "metadata": {
        "colab": {
          "base_uri": "https://localhost:8080/"
        },
        "id": "QdySQqM7Ufxx",
        "outputId": "076b62cf-a3ca-4671-cade-f944bbd478c9"
      },
      "execution_count": 29,
      "outputs": [
        {
          "output_type": "execute_result",
          "data": {
            "text/plain": [
              "{',': <gensim.models.keyedvectors.Vocab at 0x7f23f1720490>,\n",
              " '.': <gensim.models.keyedvectors.Vocab at 0x7f23f1720c90>,\n",
              " '?': <gensim.models.keyedvectors.Vocab at 0x7f23f1715d10>,\n",
              " 'achievements': <gensim.models.keyedvectors.Vocab at 0x7f23f187ddd0>,\n",
              " 'alexander': <gensim.models.keyedvectors.Vocab at 0x7f23f1720710>,\n",
              " 'also': <gensim.models.keyedvectors.Vocab at 0x7f23f188aed0>,\n",
              " 'among': <gensim.models.keyedvectors.Vocab at 0x7f23f18c2c50>,\n",
              " 'anyone': <gensim.models.keyedvectors.Vocab at 0x7f23f1715c50>,\n",
              " 'areas': <gensim.models.keyedvectors.Vocab at 0x7f23f1744090>,\n",
              " 'believe': <gensim.models.keyedvectors.Vocab at 0x7f23f17159d0>,\n",
              " 'brahm': <gensim.models.keyedvectors.Vocab at 0x7f23f16ee4d0>,\n",
              " 'british': <gensim.models.keyedvectors.Vocab at 0x7f23f1720050>,\n",
              " 'build': <gensim.models.keyedvectors.Vocab at 0x7f23f1715a90>,\n",
              " 'came': <gensim.models.keyedvectors.Vocab at 0x7f23f1720a10>,\n",
              " 'captured': <gensim.models.keyedvectors.Vocab at 0x7f23f1720a90>,\n",
              " 'career': <gensim.models.keyedvectors.Vocab at 0x7f23f17206d0>,\n",
              " 'closely': <gensim.models.keyedvectors.Vocab at 0x7f23f16ee610>,\n",
              " 'come': <gensim.models.keyedvectors.Vocab at 0x7f23f1720110>,\n",
              " 'conquered': <gensim.models.keyedvectors.Vocab at 0x7f23f1720e90>,\n",
              " 'consider': <gensim.models.keyedvectors.Vocab at 0x7f23f16ee290>,\n",
              " 'culture': <gensim.models.keyedvectors.Vocab at 0x7f23f1715d50>,\n",
              " 'dept': <gensim.models.keyedvectors.Vocab at 0x7f23f16ee350>,\n",
              " 'developed': <gensim.models.keyedvectors.Vocab at 0x7f23f18c2a90>,\n",
              " 'developing': <gensim.models.keyedvectors.Vocab at 0x7f23f1715090>,\n",
              " 'development': <gensim.models.keyedvectors.Vocab at 0x7f23f1715fd0>,\n",
              " 'dhawan': <gensim.models.keyedvectors.Vocab at 0x7f23f16ee6d0>,\n",
              " 'done': <gensim.models.keyedvectors.Vocab at 0x7f23f24448d0>,\n",
              " 'dr.': <gensim.models.keyedvectors.Vocab at 0x7f23f16ee250>,\n",
              " 'dutch': <gensim.models.keyedvectors.Vocab at 0x7f23f17205d0>,\n",
              " 'economic': <gensim.models.keyedvectors.Vocab at 0x7f23f18a0690>,\n",
              " 'enforce': <gensim.models.keyedvectors.Vocab at 0x7f23f1715110>,\n",
              " 'falling': <gensim.models.keyedvectors.Vocab at 0x7f23f187dd90>,\n",
              " 'father': <gensim.models.keyedvectors.Vocab at 0x7f23f16ee5d0>,\n",
              " 'fifty': <gensim.models.keyedvectors.Vocab at 0x7f23f1715490>,\n",
              " 'first': <gensim.models.keyedvectors.Vocab at 0x7f23f1715810>,\n",
              " 'fortune': <gensim.models.keyedvectors.Vocab at 0x7f23f18a0850>,\n",
              " 'four': <gensim.models.keyedvectors.Vocab at 0x7f23f17200d0>,\n",
              " 'free': <gensim.models.keyedvectors.Vocab at 0x7f23f1715390>,\n",
              " 'freedom': <gensim.models.keyedvectors.Vocab at 0x7f23f1715b10>,\n",
              " 'french': <gensim.models.keyedvectors.Vocab at 0x7f23f1720790>,\n",
              " 'gdp': <gensim.models.keyedvectors.Vocab at 0x7f23f1838690>,\n",
              " 'globally': <gensim.models.keyedvectors.Vocab at 0x7f23f1824290>,\n",
              " 'go': <gensim.models.keyedvectors.Vocab at 0x7f23f18a0f50>,\n",
              " 'good': <gensim.models.keyedvectors.Vocab at 0x7f23f18a0bd0>,\n",
              " 'got': <gensim.models.keyedvectors.Vocab at 0x7f23f1715450>,\n",
              " 'grabbed': <gensim.models.keyedvectors.Vocab at 0x7f23f17151d0>,\n",
              " 'great': <gensim.models.keyedvectors.Vocab at 0x7f23f16ee410>,\n",
              " 'greeks': <gensim.models.keyedvectors.Vocab at 0x7f23f1720190>,\n",
              " 'growth': <gensim.models.keyedvectors.Vocab at 0x7f23f1838450>,\n",
              " 'hand-in-hand': <gensim.models.keyedvectors.Vocab at 0x7f23f18a0490>,\n",
              " 'history': <gensim.models.keyedvectors.Vocab at 0x7f23f1720210>,\n",
              " 'incorrect': <gensim.models.keyedvectors.Vocab at 0x7f23f2a84b50>,\n",
              " 'independence': <gensim.models.keyedvectors.Vocab at 0x7f23f1715690>,\n",
              " 'india': <gensim.models.keyedvectors.Vocab at 0x7f23f1720590>,\n",
              " 'invaded': <gensim.models.keyedvectors.Vocab at 0x7f23f1720890>,\n",
              " 'lack': <gensim.models.keyedvectors.Vocab at 0x7f23f2a84f10>,\n",
              " 'land': <gensim.models.keyedvectors.Vocab at 0x7f23f1715e50>,\n",
              " 'lands': <gensim.models.keyedvectors.Vocab at 0x7f23f1720610>,\n",
              " 'levels': <gensim.models.keyedvectors.Vocab at 0x7f23f187de10>,\n",
              " 'life': <gensim.models.keyedvectors.Vocab at 0x7f23f1715410>,\n",
              " 'looted': <gensim.models.keyedvectors.Vocab at 0x7f23f1720cd0>,\n",
              " 'lucky': <gensim.models.keyedvectors.Vocab at 0x7f23f16ee710>,\n",
              " 'material': <gensim.models.keyedvectors.Vocab at 0x7f23f16ee2d0>,\n",
              " 'milestones': <gensim.models.keyedvectors.Vocab at 0x7f23f1720510>,\n",
              " 'military': <gensim.models.keyedvectors.Vocab at 0x7f23f188afd0>,\n",
              " 'minds': <gensim.models.keyedvectors.Vocab at 0x7f23f17201d0>,\n",
              " 'moguls': <gensim.models.keyedvectors.Vocab at 0x7f23f17204d0>,\n",
              " 'must': <gensim.models.keyedvectors.Vocab at 0x7f23f17156d0>,\n",
              " 'nation': <gensim.models.keyedvectors.Vocab at 0x7f23f2444310>,\n",
              " 'nations': <gensim.models.keyedvectors.Vocab at 0x7f23f18c2d90>,\n",
              " 'nuclear': <gensim.models.keyedvectors.Vocab at 0x7f23f16ee210>,\n",
              " 'nurture': <gensim.models.keyedvectors.Vocab at 0x7f23f1715550>,\n",
              " 'one': <gensim.models.keyedvectors.Vocab at 0x7f23f1715ad0>,\n",
              " 'onwards': <gensim.models.keyedvectors.Vocab at 0x7f23f1720310>,\n",
              " 'opportunity': <gensim.models.keyedvectors.Vocab at 0x7f23f1942410>,\n",
              " 'others.that': <gensim.models.keyedvectors.Vocab at 0x7f23f1715610>,\n",
              " 'people': <gensim.models.keyedvectors.Vocab at 0x7f23f1720150>,\n",
              " 'percent': <gensim.models.keyedvectors.Vocab at 0x7f23f18386d0>,\n",
              " 'portuguese': <gensim.models.keyedvectors.Vocab at 0x7f23f1720990>,\n",
              " 'poverty': <gensim.models.keyedvectors.Vocab at 0x7f23f17441d0>,\n",
              " 'power': <gensim.models.keyedvectors.Vocab at 0x7f23f188ac10>,\n",
              " 'prakash': <gensim.models.keyedvectors.Vocab at 0x7f23f16ee650>,\n",
              " 'professor': <gensim.models.keyedvectors.Vocab at 0x7f23f16ee3d0>,\n",
              " 'protect': <gensim.models.keyedvectors.Vocab at 0x7f23f1715890>,\n",
              " 'rate': <gensim.models.keyedvectors.Vocab at 0x7f23f2451210>,\n",
              " 'recognised': <gensim.models.keyedvectors.Vocab at 0x7f23f1824210>,\n",
              " 'respect': <gensim.models.keyedvectors.Vocab at 0x7f23f1715f10>,\n",
              " 'respects': <gensim.models.keyedvectors.Vocab at 0x7f23f188a910>,\n",
              " 'sarabhai': <gensim.models.keyedvectors.Vocab at 0x7f23f16ee590>,\n",
              " 'satish': <gensim.models.keyedvectors.Vocab at 0x7f23f16ee450>,\n",
              " 'second': <gensim.models.keyedvectors.Vocab at 0x7f23f17158d0>,\n",
              " 'see': <gensim.models.keyedvectors.Vocab at 0x7f23f18c2190>,\n",
              " 'self-assured': <gensim.models.keyedvectors.Vocab at 0x7f23f2a84810>,\n",
              " 'self-confidence': <gensim.models.keyedvectors.Vocab at 0x7f23f2a84490>,\n",
              " 'self-reliant': <gensim.models.keyedvectors.Vocab at 0x7f23f2a84410>,\n",
              " 'space': <gensim.models.keyedvectors.Vocab at 0x7f23f16ee310>,\n",
              " 'stand': <gensim.models.keyedvectors.Vocab at 0x7f23f2a84910>,\n",
              " 'stands': <gensim.models.keyedvectors.Vocab at 0x7f23f18941d0>,\n",
              " 'started': <gensim.models.keyedvectors.Vocab at 0x7f23f1715dd0>,\n",
              " 'strength': <gensim.models.keyedvectors.Vocab at 0x7f23f1894190>,\n",
              " 'strong': <gensim.models.keyedvectors.Vocab at 0x7f23f188ae90>,\n",
              " 'succeeded': <gensim.models.keyedvectors.Vocab at 0x7f23f16ee1d0>,\n",
              " 'terms': <gensim.models.keyedvectors.Vocab at 0x7f23f1838c10>,\n",
              " 'third': <gensim.models.keyedvectors.Vocab at 0x7f23f2a84710>,\n",
              " 'three': <gensim.models.keyedvectors.Vocab at 0x7f23f18ba990>,\n",
              " 'time': <gensim.models.keyedvectors.Vocab at 0x7f23f18c2890>,\n",
              " 'today': <gensim.models.keyedvectors.Vocab at 0x7f23f17ff5d0>,\n",
              " 'took': <gensim.models.keyedvectors.Vocab at 0x7f23f1720810>,\n",
              " 'top': <gensim.models.keyedvectors.Vocab at 0x7f23f18c2090>,\n",
              " 'tried': <gensim.models.keyedvectors.Vocab at 0x7f23f1715790>,\n",
              " 'turks': <gensim.models.keyedvectors.Vocab at 0x7f23f1720e50>,\n",
              " 'unless': <gensim.models.keyedvectors.Vocab at 0x7f23f1894050>,\n",
              " 'us': <gensim.models.keyedvectors.Vocab at 0x7f23f17207d0>,\n",
              " 'vikram': <gensim.models.keyedvectors.Vocab at 0x7f23f16ee510>,\n",
              " 'vision': <gensim.models.keyedvectors.Vocab at 0x7f23f1715b90>,\n",
              " 'visions': <gensim.models.keyedvectors.Vocab at 0x7f23f1720750>,\n",
              " 'war': <gensim.models.keyedvectors.Vocab at 0x7f23f1715c90>,\n",
              " 'way': <gensim.models.keyedvectors.Vocab at 0x7f23f1715a10>,\n",
              " 'worked': <gensim.models.keyedvectors.Vocab at 0x7f23f17ce8d0>,\n",
              " 'world': <gensim.models.keyedvectors.Vocab at 0x7f23f1720c10>,\n",
              " 'years': <gensim.models.keyedvectors.Vocab at 0x7f23f1720690>,\n",
              " 'yet': <gensim.models.keyedvectors.Vocab at 0x7f23f2444950>,\n",
              " '’': <gensim.models.keyedvectors.Vocab at 0x7f23f1715f90>}"
            ]
          },
          "metadata": {},
          "execution_count": 29
        }
      ]
    },
    {
      "cell_type": "code",
      "source": [
        "vector = model.wv['war']"
      ],
      "metadata": {
        "id": "lZbg7CfyUQ-_"
      },
      "execution_count": 27,
      "outputs": []
    },
    {
      "cell_type": "code",
      "source": [
        "vector"
      ],
      "metadata": {
        "colab": {
          "base_uri": "https://localhost:8080/"
        },
        "id": "UDs7PgcGUdLi",
        "outputId": "48ef31e5-0cc3-4833-809e-c78ddba79684"
      },
      "execution_count": 28,
      "outputs": [
        {
          "output_type": "execute_result",
          "data": {
            "text/plain": [
              "array([ 4.6882415e-03,  4.3623582e-03,  7.9331303e-04, -3.3798823e-04,\n",
              "       -1.6149207e-03, -9.6773595e-04, -1.4869823e-03, -3.7131517e-03,\n",
              "        3.1162263e-03,  4.6991273e-03, -4.5882101e-04, -2.9789272e-04,\n",
              "        4.8191003e-03,  4.4849943e-03, -3.1063582e-03,  1.6791261e-04,\n",
              "        7.3984475e-04, -3.8260372e-05, -2.8542692e-03, -1.7569625e-03,\n",
              "        4.6932963e-03,  2.8798718e-03,  4.5767878e-03, -3.0368038e-03,\n",
              "       -3.7307437e-03, -1.1418145e-03,  3.0284384e-04, -3.8698399e-03,\n",
              "       -7.8731109e-06, -4.6448624e-03,  6.7060115e-04,  2.1496541e-03,\n",
              "       -5.6782801e-04, -8.2492467e-04,  4.0000098e-04, -1.3370886e-03,\n",
              "       -3.8255490e-03, -2.2452413e-03, -9.8775595e-04, -2.3022403e-03,\n",
              "       -4.5754286e-03,  4.9653421e-03,  1.7238563e-03,  1.1816537e-03,\n",
              "        4.3289186e-03, -4.9396656e-03, -3.8315321e-03,  4.6499325e-03,\n",
              "       -1.8251083e-03,  3.4736784e-03,  4.0662861e-03,  6.7521114e-04,\n",
              "        4.3197935e-03,  5.0444331e-04, -1.2859671e-03, -4.9724607e-03,\n",
              "       -6.0742127e-04,  2.0199399e-03, -4.1231425e-03, -1.3630179e-03,\n",
              "       -1.4350711e-03,  3.0898305e-03, -2.5880109e-03, -8.1238401e-04,\n",
              "        1.7473927e-03,  4.8215361e-03, -3.2214283e-03,  4.8342170e-04,\n",
              "       -3.5282466e-04, -3.8942548e-03,  1.8778861e-03,  3.0656876e-03,\n",
              "       -2.0140416e-03, -8.5141591e-04,  4.3135844e-03, -4.3268944e-03,\n",
              "       -4.6557217e-04,  4.4131745e-03,  4.4327751e-03, -3.8761192e-04,\n",
              "       -1.4545869e-03, -2.2335048e-03,  1.7808047e-03, -1.9595856e-03,\n",
              "        4.3885922e-03, -1.9221436e-04, -2.2073216e-03, -3.5744689e-03,\n",
              "        1.3411285e-03,  3.6122825e-03,  2.3946921e-05, -2.7771606e-03,\n",
              "        4.7701682e-04, -4.3098694e-03, -3.6719257e-03,  5.6114372e-05,\n",
              "       -3.8650358e-04,  3.7458888e-03,  1.4372291e-03,  3.3313869e-03],\n",
              "      dtype=float32)"
            ]
          },
          "metadata": {},
          "execution_count": 28
        }
      ]
    },
    {
      "cell_type": "code",
      "source": [
        "model.wv.most_similar('nation')"
      ],
      "metadata": {
        "colab": {
          "base_uri": "https://localhost:8080/"
        },
        "id": "WbIYvg4PUZM4",
        "outputId": "5e2c6bd5-4d56-4646-efe7-a207608a7aea"
      },
      "execution_count": 31,
      "outputs": [
        {
          "output_type": "execute_result",
          "data": {
            "text/plain": [
              "[('looted', 0.19263240694999695),\n",
              " ('development', 0.18385443091392517),\n",
              " ('great', 0.1675867736339569),\n",
              " ('?', 0.1608075052499771),\n",
              " ('life', 0.15276314318180084),\n",
              " ('took', 0.1483759880065918),\n",
              " ('top', 0.14592701196670532),\n",
              " ('respect', 0.11912047863006592),\n",
              " ('closely', 0.1105697825551033),\n",
              " ('material', 0.10933715105056763)]"
            ]
          },
          "metadata": {},
          "execution_count": 31
        }
      ]
    },
    {
      "cell_type": "code",
      "source": [
        ""
      ],
      "metadata": {
        "id": "SMLlqEk4UuOm"
      },
      "execution_count": null,
      "outputs": []
    }
  ]
}